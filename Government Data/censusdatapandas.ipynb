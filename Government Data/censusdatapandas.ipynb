{
 "cells": [
  {
   "cell_type": "code",
   "execution_count": null,
   "metadata": {},
   "outputs": [],
   "source": [
    "import pandas\n",
    "import numpy\n",
    "import requests\n",
    "import io\n",
    "\n",
    "\n",
    "# Read in the data from the Census API\n",
    "# Note: The Census API returns the data in a CSV format\n",
    "#       The data is returned as a string\n",
    "#       The data is read into a pandas dataframe\n",
    "\n",
    "# The Census API URL\n",
    "\n"
   ]
  }
 ],
 "metadata": {
  "language_info": {
   "name": "python"
  },
  "orig_nbformat": 4
 },
 "nbformat": 4,
 "nbformat_minor": 2
}
